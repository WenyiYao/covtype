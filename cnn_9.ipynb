{
  "nbformat": 4,
  "nbformat_minor": 0,
  "metadata": {
    "colab": {
      "provenance": [],
      "toc_visible": true,
      "gpuType": "T4",
      "authorship_tag": "ABX9TyNGQtW1+J54hv1tyx2AxrLu",
      "include_colab_link": true
    },
    "kernelspec": {
      "name": "python3",
      "display_name": "Python 3"
    },
    "language_info": {
      "name": "python"
    },
    "accelerator": "GPU"
  },
  "cells": [
    {
      "cell_type": "markdown",
      "metadata": {
        "id": "view-in-github",
        "colab_type": "text"
      },
      "source": [
        "<a href=\"https://colab.research.google.com/github/WenyiYao/covtype/blob/main/cnn_9.ipynb\" target=\"_parent\"><img src=\"https://colab.research.google.com/assets/colab-badge.svg\" alt=\"Open In Colab\"/></a>"
      ]
    },
    {
      "cell_type": "code",
      "source": [
        "pip install ucimlrepo"
      ],
      "metadata": {
        "colab": {
          "base_uri": "https://localhost:8080/"
        },
        "id": "yPFhHi_fye8r",
        "outputId": "0cb0f3fe-91fa-4e7c-8fa1-028de48fb6eb"
      },
      "execution_count": 1,
      "outputs": [
        {
          "output_type": "stream",
          "name": "stdout",
          "text": [
            "Collecting ucimlrepo\n",
            "  Downloading ucimlrepo-0.0.3-py3-none-any.whl (7.0 kB)\n",
            "Installing collected packages: ucimlrepo\n",
            "Successfully installed ucimlrepo-0.0.3\n"
          ]
        }
      ]
    },
    {
      "cell_type": "code",
      "execution_count": 2,
      "metadata": {
        "id": "5gJSuqEaUXcG"
      },
      "outputs": [],
      "source": [
        "from ucimlrepo import fetch_ucirepo\n",
        "import numpy as np\n",
        "import torch\n",
        "import torch.nn as nn\n",
        "import torch.nn.functional as F\n",
        "import torch.optim as optim\n",
        "from torch.utils.data import DataLoader, TensorDataset\n",
        "from sklearn.preprocessing import StandardScaler\n",
        "from sklearn.model_selection import train_test_split\n",
        "from sklearn.model_selection import ParameterGrid\n",
        "from sklearn.metrics import confusion_matrix, ConfusionMatrixDisplay\n",
        "from sklearn.metrics import classification_report, accuracy_score\n",
        "import seaborn as sns\n",
        "import matplotlib.pyplot as plt"
      ]
    },
    {
      "cell_type": "code",
      "source": [
        "device = torch.device(\"cuda\" if torch.cuda.is_available() else \"cpu\")"
      ],
      "metadata": {
        "id": "vXryZQ3ZOi-s"
      },
      "execution_count": 3,
      "outputs": []
    },
    {
      "cell_type": "code",
      "source": [
        "# fetch dataset\n",
        "covertype = fetch_ucirepo(id=31)\n",
        "\n",
        "# variable information\n",
        "print(covertype.variables)"
      ],
      "metadata": {
        "colab": {
          "base_uri": "https://localhost:8080/"
        },
        "id": "v0Hfe--KzSYz",
        "outputId": "e5a42ce6-caf0-4ba3-e3ce-9dde99eeb389"
      },
      "execution_count": 4,
      "outputs": [
        {
          "output_type": "stream",
          "name": "stdout",
          "text": [
            "                                  name     role     type demographic  \\\n",
            "0                            Elevation  Feature  Integer        None   \n",
            "1                               Aspect  Feature  Integer        None   \n",
            "2                                Slope  Feature  Integer        None   \n",
            "3     Horizontal_Distance_To_Hydrology  Feature  Integer        None   \n",
            "4       Vertical_Distance_To_Hydrology  Feature  Integer        None   \n",
            "5      Horizontal_Distance_To_Roadways  Feature  Integer        None   \n",
            "6                        Hillshade_9am  Feature  Integer        None   \n",
            "7                       Hillshade_Noon  Feature  Integer        None   \n",
            "8                        Hillshade_3pm  Feature  Integer        None   \n",
            "9   Horizontal_Distance_To_Fire_Points  Feature  Integer        None   \n",
            "10                     Wilderness_Area  Feature  Integer        None   \n",
            "11                          Soil_Type1  Feature  Integer        None   \n",
            "12                          Soil_Type2  Feature  Integer        None   \n",
            "13                          Soil_Type3  Feature  Integer        None   \n",
            "14                          Soil_Type4  Feature  Integer        None   \n",
            "15                          Soil_Type5  Feature  Integer        None   \n",
            "16                          Soil_Type6  Feature  Integer        None   \n",
            "17                          Soil_Type7  Feature  Integer        None   \n",
            "18                          Soil_Type8  Feature  Integer        None   \n",
            "19                          Soil_Type9  Feature  Integer        None   \n",
            "20                         Soil_Type10  Feature  Integer        None   \n",
            "21                         Soil_Type11  Feature  Integer        None   \n",
            "22                         Soil_Type12  Feature  Integer        None   \n",
            "23                         Soil_Type13  Feature  Integer        None   \n",
            "24                         Soil_Type14  Feature  Integer        None   \n",
            "25                         Soil_Type15  Feature  Integer        None   \n",
            "26                         Soil_Type16  Feature  Integer        None   \n",
            "27                         Soil_Type17  Feature  Integer        None   \n",
            "28                         Soil_Type18  Feature  Integer        None   \n",
            "29                         Soil_Type19  Feature  Integer        None   \n",
            "30                         Soil_Type20  Feature  Integer        None   \n",
            "31                         Soil_Type21  Feature  Integer        None   \n",
            "32                         Soil_Type22  Feature  Integer        None   \n",
            "33                         Soil_Type23  Feature  Integer        None   \n",
            "34                         Soil_Type24  Feature  Integer        None   \n",
            "35                         Soil_Type25  Feature  Integer        None   \n",
            "36                         Soil_Type26  Feature  Integer        None   \n",
            "37                         Soil_Type27  Feature  Integer        None   \n",
            "38                         Soil_Type28  Feature  Integer        None   \n",
            "39                         Soil_Type29  Feature  Integer        None   \n",
            "40                         Soil_Type30  Feature  Integer        None   \n",
            "41                         Soil_Type31  Feature  Integer        None   \n",
            "42                         Soil_Type32  Feature  Integer        None   \n",
            "43                         Soil_Type33  Feature  Integer        None   \n",
            "44                         Soil_Type34  Feature  Integer        None   \n",
            "45                         Soil_Type35  Feature  Integer        None   \n",
            "46                         Soil_Type36  Feature  Integer        None   \n",
            "47                         Soil_Type37  Feature  Integer        None   \n",
            "48                         Soil_Type38  Feature  Integer        None   \n",
            "49                         Soil_Type39  Feature  Integer        None   \n",
            "50                         Soil_Type40  Feature  Integer        None   \n",
            "51                          Cover_Type  Feature  Integer        None   \n",
            "\n",
            "   description units missing_values  \n",
            "0         None  None             no  \n",
            "1         None  None             no  \n",
            "2         None  None             no  \n",
            "3         None  None             no  \n",
            "4         None  None             no  \n",
            "5         None  None             no  \n",
            "6         None  None             no  \n",
            "7         None  None             no  \n",
            "8         None  None             no  \n",
            "9         None  None             no  \n",
            "10        None  None             no  \n",
            "11        None  None             no  \n",
            "12        None  None             no  \n",
            "13        None  None             no  \n",
            "14        None  None             no  \n",
            "15        None  None             no  \n",
            "16        None  None             no  \n",
            "17        None  None             no  \n",
            "18        None  None             no  \n",
            "19        None  None             no  \n",
            "20        None  None             no  \n",
            "21        None  None             no  \n",
            "22        None  None             no  \n",
            "23        None  None             no  \n",
            "24        None  None             no  \n",
            "25        None  None             no  \n",
            "26        None  None             no  \n",
            "27        None  None             no  \n",
            "28        None  None             no  \n",
            "29        None  None             no  \n",
            "30        None  None             no  \n",
            "31        None  None             no  \n",
            "32        None  None             no  \n",
            "33        None  None             no  \n",
            "34        None  None             no  \n",
            "35        None  None             no  \n",
            "36        None  None             no  \n",
            "37        None  None             no  \n",
            "38        None  None             no  \n",
            "39        None  None             no  \n",
            "40        None  None             no  \n",
            "41        None  None             no  \n",
            "42        None  None             no  \n",
            "43        None  None             no  \n",
            "44        None  None             no  \n",
            "45        None  None             no  \n",
            "46        None  None             no  \n",
            "47        None  None             no  \n",
            "48        None  None             no  \n",
            "49        None  None             no  \n",
            "50        None  None             no  \n",
            "51        None  None             no  \n"
          ]
        }
      ]
    },
    {
      "cell_type": "code",
      "source": [
        "# check missing value\n",
        "covertype.data.features.isnull().sum().sum()"
      ],
      "metadata": {
        "colab": {
          "base_uri": "https://localhost:8080/"
        },
        "id": "4yhvTBhK6RIJ",
        "outputId": "41eae4db-b9c9-4cfe-bf70-8efa6dd20d77"
      },
      "execution_count": 5,
      "outputs": [
        {
          "output_type": "execute_result",
          "data": {
            "text/plain": [
              "0"
            ]
          },
          "metadata": {},
          "execution_count": 5
        }
      ]
    },
    {
      "cell_type": "code",
      "source": [
        "# check data type\n",
        "covertype.data.features.dtypes"
      ],
      "metadata": {
        "colab": {
          "base_uri": "https://localhost:8080/"
        },
        "id": "sAzV_tD266k9",
        "outputId": "50d6fbdb-eff4-4513-ba10-2a0f4ba2f4b3"
      },
      "execution_count": 6,
      "outputs": [
        {
          "output_type": "execute_result",
          "data": {
            "text/plain": [
              "Elevation                             int64\n",
              "Aspect                                int64\n",
              "Slope                                 int64\n",
              "Horizontal_Distance_To_Hydrology      int64\n",
              "Vertical_Distance_To_Hydrology        int64\n",
              "Horizontal_Distance_To_Roadways       int64\n",
              "Hillshade_9am                         int64\n",
              "Hillshade_Noon                        int64\n",
              "Hillshade_3pm                         int64\n",
              "Horizontal_Distance_To_Fire_Points    int64\n",
              "Wilderness_Area                       int64\n",
              "Soil_Type1                            int64\n",
              "Soil_Type2                            int64\n",
              "Soil_Type3                            int64\n",
              "Soil_Type4                            int64\n",
              "Soil_Type5                            int64\n",
              "Soil_Type6                            int64\n",
              "Soil_Type7                            int64\n",
              "Soil_Type8                            int64\n",
              "Soil_Type9                            int64\n",
              "Soil_Type10                           int64\n",
              "Soil_Type11                           int64\n",
              "Soil_Type12                           int64\n",
              "Soil_Type13                           int64\n",
              "Soil_Type14                           int64\n",
              "Soil_Type15                           int64\n",
              "Soil_Type16                           int64\n",
              "Soil_Type17                           int64\n",
              "Soil_Type18                           int64\n",
              "Soil_Type19                           int64\n",
              "Soil_Type20                           int64\n",
              "Soil_Type21                           int64\n",
              "Soil_Type22                           int64\n",
              "Soil_Type23                           int64\n",
              "Soil_Type24                           int64\n",
              "Soil_Type25                           int64\n",
              "Soil_Type26                           int64\n",
              "Soil_Type27                           int64\n",
              "Soil_Type28                           int64\n",
              "Soil_Type29                           int64\n",
              "Soil_Type30                           int64\n",
              "Soil_Type31                           int64\n",
              "Soil_Type32                           int64\n",
              "Soil_Type33                           int64\n",
              "Soil_Type34                           int64\n",
              "Soil_Type35                           int64\n",
              "Soil_Type36                           int64\n",
              "Soil_Type37                           int64\n",
              "Soil_Type38                           int64\n",
              "Soil_Type39                           int64\n",
              "Soil_Type40                           int64\n",
              "Cover_Type                            int64\n",
              "dtype: object"
            ]
          },
          "metadata": {},
          "execution_count": 6
        }
      ]
    },
    {
      "cell_type": "code",
      "source": [
        "X = covertype.data.features.iloc[:,0:51]\n",
        "y = covertype.data.features.Cover_Type"
      ],
      "metadata": {
        "id": "4le80OHp5Hzu"
      },
      "execution_count": 7,
      "outputs": []
    },
    {
      "cell_type": "code",
      "source": [
        "X.head()"
      ],
      "metadata": {
        "colab": {
          "base_uri": "https://localhost:8080/",
          "height": 253
        },
        "id": "pTLWWEk23ilS",
        "outputId": "c2c4e9a2-28bf-49fe-be8c-f6f7fc9667e4"
      },
      "execution_count": 8,
      "outputs": [
        {
          "output_type": "execute_result",
          "data": {
            "text/plain": [
              "             Elevation  Aspect  Slope  Horizontal_Distance_To_Hydrology  \\\n",
              "2596 51  3         258       0    510                               221   \n",
              "2590 56  2         212      -6    390                               220   \n",
              "2804 139 9         268      65   3180                               234   \n",
              "2785 155 18        242     118   3090                               238   \n",
              "2595 45  2         153      -1    391                               220   \n",
              "\n",
              "             Vertical_Distance_To_Hydrology  Horizontal_Distance_To_Roadways  \\\n",
              "2596 51  3                              232                              148   \n",
              "2590 56  2                              235                              151   \n",
              "2804 139 9                              238                              135   \n",
              "2785 155 18                             238                              122   \n",
              "2595 45  2                              234                              150   \n",
              "\n",
              "             Hillshade_9am  Hillshade_Noon  Hillshade_3pm  \\\n",
              "2596 51  3            6279               1              0   \n",
              "2590 56  2            6225               1              0   \n",
              "2804 139 9            6121               1              0   \n",
              "2785 155 18           6211               1              0   \n",
              "2595 45  2            6172               1              0   \n",
              "\n",
              "             Horizontal_Distance_To_Fire_Points  ...  Soil_Type31  \\\n",
              "2596 51  3                                    0  ...            0   \n",
              "2590 56  2                                    0  ...            0   \n",
              "2804 139 9                                    0  ...            0   \n",
              "2785 155 18                                   0  ...            0   \n",
              "2595 45  2                                    0  ...            0   \n",
              "\n",
              "             Soil_Type32  Soil_Type33  Soil_Type34  Soil_Type35  Soil_Type36  \\\n",
              "2596 51  3             0            0            0            0            0   \n",
              "2590 56  2             0            0            0            0            0   \n",
              "2804 139 9             0            0            0            0            0   \n",
              "2785 155 18            0            0            0            0            0   \n",
              "2595 45  2             0            0            0            0            0   \n",
              "\n",
              "             Soil_Type37  Soil_Type38  Soil_Type39  Soil_Type40  \n",
              "2596 51  3             0            0            0            0  \n",
              "2590 56  2             0            0            0            0  \n",
              "2804 139 9             0            0            0            0  \n",
              "2785 155 18            0            0            0            0  \n",
              "2595 45  2             0            0            0            0  \n",
              "\n",
              "[5 rows x 51 columns]"
            ],
            "text/html": [
              "\n",
              "  <div id=\"df-430eb2d6-f79f-466a-8816-e490ec433f98\" class=\"colab-df-container\">\n",
              "    <div>\n",
              "<style scoped>\n",
              "    .dataframe tbody tr th:only-of-type {\n",
              "        vertical-align: middle;\n",
              "    }\n",
              "\n",
              "    .dataframe tbody tr th {\n",
              "        vertical-align: top;\n",
              "    }\n",
              "\n",
              "    .dataframe thead th {\n",
              "        text-align: right;\n",
              "    }\n",
              "</style>\n",
              "<table border=\"1\" class=\"dataframe\">\n",
              "  <thead>\n",
              "    <tr style=\"text-align: right;\">\n",
              "      <th></th>\n",
              "      <th></th>\n",
              "      <th></th>\n",
              "      <th>Elevation</th>\n",
              "      <th>Aspect</th>\n",
              "      <th>Slope</th>\n",
              "      <th>Horizontal_Distance_To_Hydrology</th>\n",
              "      <th>Vertical_Distance_To_Hydrology</th>\n",
              "      <th>Horizontal_Distance_To_Roadways</th>\n",
              "      <th>Hillshade_9am</th>\n",
              "      <th>Hillshade_Noon</th>\n",
              "      <th>Hillshade_3pm</th>\n",
              "      <th>Horizontal_Distance_To_Fire_Points</th>\n",
              "      <th>...</th>\n",
              "      <th>Soil_Type31</th>\n",
              "      <th>Soil_Type32</th>\n",
              "      <th>Soil_Type33</th>\n",
              "      <th>Soil_Type34</th>\n",
              "      <th>Soil_Type35</th>\n",
              "      <th>Soil_Type36</th>\n",
              "      <th>Soil_Type37</th>\n",
              "      <th>Soil_Type38</th>\n",
              "      <th>Soil_Type39</th>\n",
              "      <th>Soil_Type40</th>\n",
              "    </tr>\n",
              "  </thead>\n",
              "  <tbody>\n",
              "    <tr>\n",
              "      <th>2596</th>\n",
              "      <th>51</th>\n",
              "      <th>3</th>\n",
              "      <td>258</td>\n",
              "      <td>0</td>\n",
              "      <td>510</td>\n",
              "      <td>221</td>\n",
              "      <td>232</td>\n",
              "      <td>148</td>\n",
              "      <td>6279</td>\n",
              "      <td>1</td>\n",
              "      <td>0</td>\n",
              "      <td>0</td>\n",
              "      <td>...</td>\n",
              "      <td>0</td>\n",
              "      <td>0</td>\n",
              "      <td>0</td>\n",
              "      <td>0</td>\n",
              "      <td>0</td>\n",
              "      <td>0</td>\n",
              "      <td>0</td>\n",
              "      <td>0</td>\n",
              "      <td>0</td>\n",
              "      <td>0</td>\n",
              "    </tr>\n",
              "    <tr>\n",
              "      <th>2590</th>\n",
              "      <th>56</th>\n",
              "      <th>2</th>\n",
              "      <td>212</td>\n",
              "      <td>-6</td>\n",
              "      <td>390</td>\n",
              "      <td>220</td>\n",
              "      <td>235</td>\n",
              "      <td>151</td>\n",
              "      <td>6225</td>\n",
              "      <td>1</td>\n",
              "      <td>0</td>\n",
              "      <td>0</td>\n",
              "      <td>...</td>\n",
              "      <td>0</td>\n",
              "      <td>0</td>\n",
              "      <td>0</td>\n",
              "      <td>0</td>\n",
              "      <td>0</td>\n",
              "      <td>0</td>\n",
              "      <td>0</td>\n",
              "      <td>0</td>\n",
              "      <td>0</td>\n",
              "      <td>0</td>\n",
              "    </tr>\n",
              "    <tr>\n",
              "      <th>2804</th>\n",
              "      <th>139</th>\n",
              "      <th>9</th>\n",
              "      <td>268</td>\n",
              "      <td>65</td>\n",
              "      <td>3180</td>\n",
              "      <td>234</td>\n",
              "      <td>238</td>\n",
              "      <td>135</td>\n",
              "      <td>6121</td>\n",
              "      <td>1</td>\n",
              "      <td>0</td>\n",
              "      <td>0</td>\n",
              "      <td>...</td>\n",
              "      <td>0</td>\n",
              "      <td>0</td>\n",
              "      <td>0</td>\n",
              "      <td>0</td>\n",
              "      <td>0</td>\n",
              "      <td>0</td>\n",
              "      <td>0</td>\n",
              "      <td>0</td>\n",
              "      <td>0</td>\n",
              "      <td>0</td>\n",
              "    </tr>\n",
              "    <tr>\n",
              "      <th>2785</th>\n",
              "      <th>155</th>\n",
              "      <th>18</th>\n",
              "      <td>242</td>\n",
              "      <td>118</td>\n",
              "      <td>3090</td>\n",
              "      <td>238</td>\n",
              "      <td>238</td>\n",
              "      <td>122</td>\n",
              "      <td>6211</td>\n",
              "      <td>1</td>\n",
              "      <td>0</td>\n",
              "      <td>0</td>\n",
              "      <td>...</td>\n",
              "      <td>0</td>\n",
              "      <td>0</td>\n",
              "      <td>0</td>\n",
              "      <td>0</td>\n",
              "      <td>0</td>\n",
              "      <td>0</td>\n",
              "      <td>0</td>\n",
              "      <td>0</td>\n",
              "      <td>0</td>\n",
              "      <td>0</td>\n",
              "    </tr>\n",
              "    <tr>\n",
              "      <th>2595</th>\n",
              "      <th>45</th>\n",
              "      <th>2</th>\n",
              "      <td>153</td>\n",
              "      <td>-1</td>\n",
              "      <td>391</td>\n",
              "      <td>220</td>\n",
              "      <td>234</td>\n",
              "      <td>150</td>\n",
              "      <td>6172</td>\n",
              "      <td>1</td>\n",
              "      <td>0</td>\n",
              "      <td>0</td>\n",
              "      <td>...</td>\n",
              "      <td>0</td>\n",
              "      <td>0</td>\n",
              "      <td>0</td>\n",
              "      <td>0</td>\n",
              "      <td>0</td>\n",
              "      <td>0</td>\n",
              "      <td>0</td>\n",
              "      <td>0</td>\n",
              "      <td>0</td>\n",
              "      <td>0</td>\n",
              "    </tr>\n",
              "  </tbody>\n",
              "</table>\n",
              "<p>5 rows × 51 columns</p>\n",
              "</div>\n",
              "    <div class=\"colab-df-buttons\">\n",
              "\n",
              "  <div class=\"colab-df-container\">\n",
              "    <button class=\"colab-df-convert\" onclick=\"convertToInteractive('df-430eb2d6-f79f-466a-8816-e490ec433f98')\"\n",
              "            title=\"Convert this dataframe to an interactive table.\"\n",
              "            style=\"display:none;\">\n",
              "\n",
              "  <svg xmlns=\"http://www.w3.org/2000/svg\" height=\"24px\" viewBox=\"0 -960 960 960\">\n",
              "    <path d=\"M120-120v-720h720v720H120Zm60-500h600v-160H180v160Zm220 220h160v-160H400v160Zm0 220h160v-160H400v160ZM180-400h160v-160H180v160Zm440 0h160v-160H620v160ZM180-180h160v-160H180v160Zm440 0h160v-160H620v160Z\"/>\n",
              "  </svg>\n",
              "    </button>\n",
              "\n",
              "  <style>\n",
              "    .colab-df-container {\n",
              "      display:flex;\n",
              "      gap: 12px;\n",
              "    }\n",
              "\n",
              "    .colab-df-convert {\n",
              "      background-color: #E8F0FE;\n",
              "      border: none;\n",
              "      border-radius: 50%;\n",
              "      cursor: pointer;\n",
              "      display: none;\n",
              "      fill: #1967D2;\n",
              "      height: 32px;\n",
              "      padding: 0 0 0 0;\n",
              "      width: 32px;\n",
              "    }\n",
              "\n",
              "    .colab-df-convert:hover {\n",
              "      background-color: #E2EBFA;\n",
              "      box-shadow: 0px 1px 2px rgba(60, 64, 67, 0.3), 0px 1px 3px 1px rgba(60, 64, 67, 0.15);\n",
              "      fill: #174EA6;\n",
              "    }\n",
              "\n",
              "    .colab-df-buttons div {\n",
              "      margin-bottom: 4px;\n",
              "    }\n",
              "\n",
              "    [theme=dark] .colab-df-convert {\n",
              "      background-color: #3B4455;\n",
              "      fill: #D2E3FC;\n",
              "    }\n",
              "\n",
              "    [theme=dark] .colab-df-convert:hover {\n",
              "      background-color: #434B5C;\n",
              "      box-shadow: 0px 1px 3px 1px rgba(0, 0, 0, 0.15);\n",
              "      filter: drop-shadow(0px 1px 2px rgba(0, 0, 0, 0.3));\n",
              "      fill: #FFFFFF;\n",
              "    }\n",
              "  </style>\n",
              "\n",
              "    <script>\n",
              "      const buttonEl =\n",
              "        document.querySelector('#df-430eb2d6-f79f-466a-8816-e490ec433f98 button.colab-df-convert');\n",
              "      buttonEl.style.display =\n",
              "        google.colab.kernel.accessAllowed ? 'block' : 'none';\n",
              "\n",
              "      async function convertToInteractive(key) {\n",
              "        const element = document.querySelector('#df-430eb2d6-f79f-466a-8816-e490ec433f98');\n",
              "        const dataTable =\n",
              "          await google.colab.kernel.invokeFunction('convertToInteractive',\n",
              "                                                    [key], {});\n",
              "        if (!dataTable) return;\n",
              "\n",
              "        const docLinkHtml = 'Like what you see? Visit the ' +\n",
              "          '<a target=\"_blank\" href=https://colab.research.google.com/notebooks/data_table.ipynb>data table notebook</a>'\n",
              "          + ' to learn more about interactive tables.';\n",
              "        element.innerHTML = '';\n",
              "        dataTable['output_type'] = 'display_data';\n",
              "        await google.colab.output.renderOutput(dataTable, element);\n",
              "        const docLink = document.createElement('div');\n",
              "        docLink.innerHTML = docLinkHtml;\n",
              "        element.appendChild(docLink);\n",
              "      }\n",
              "    </script>\n",
              "  </div>\n",
              "\n",
              "\n",
              "<div id=\"df-ccdf939c-724d-4545-8cd8-0c1facd640d7\">\n",
              "  <button class=\"colab-df-quickchart\" onclick=\"quickchart('df-ccdf939c-724d-4545-8cd8-0c1facd640d7')\"\n",
              "            title=\"Suggest charts\"\n",
              "            style=\"display:none;\">\n",
              "\n",
              "<svg xmlns=\"http://www.w3.org/2000/svg\" height=\"24px\"viewBox=\"0 0 24 24\"\n",
              "     width=\"24px\">\n",
              "    <g>\n",
              "        <path d=\"M19 3H5c-1.1 0-2 .9-2 2v14c0 1.1.9 2 2 2h14c1.1 0 2-.9 2-2V5c0-1.1-.9-2-2-2zM9 17H7v-7h2v7zm4 0h-2V7h2v10zm4 0h-2v-4h2v4z\"/>\n",
              "    </g>\n",
              "</svg>\n",
              "  </button>\n",
              "\n",
              "<style>\n",
              "  .colab-df-quickchart {\n",
              "      --bg-color: #E8F0FE;\n",
              "      --fill-color: #1967D2;\n",
              "      --hover-bg-color: #E2EBFA;\n",
              "      --hover-fill-color: #174EA6;\n",
              "      --disabled-fill-color: #AAA;\n",
              "      --disabled-bg-color: #DDD;\n",
              "  }\n",
              "\n",
              "  [theme=dark] .colab-df-quickchart {\n",
              "      --bg-color: #3B4455;\n",
              "      --fill-color: #D2E3FC;\n",
              "      --hover-bg-color: #434B5C;\n",
              "      --hover-fill-color: #FFFFFF;\n",
              "      --disabled-bg-color: #3B4455;\n",
              "      --disabled-fill-color: #666;\n",
              "  }\n",
              "\n",
              "  .colab-df-quickchart {\n",
              "    background-color: var(--bg-color);\n",
              "    border: none;\n",
              "    border-radius: 50%;\n",
              "    cursor: pointer;\n",
              "    display: none;\n",
              "    fill: var(--fill-color);\n",
              "    height: 32px;\n",
              "    padding: 0;\n",
              "    width: 32px;\n",
              "  }\n",
              "\n",
              "  .colab-df-quickchart:hover {\n",
              "    background-color: var(--hover-bg-color);\n",
              "    box-shadow: 0 1px 2px rgba(60, 64, 67, 0.3), 0 1px 3px 1px rgba(60, 64, 67, 0.15);\n",
              "    fill: var(--button-hover-fill-color);\n",
              "  }\n",
              "\n",
              "  .colab-df-quickchart-complete:disabled,\n",
              "  .colab-df-quickchart-complete:disabled:hover {\n",
              "    background-color: var(--disabled-bg-color);\n",
              "    fill: var(--disabled-fill-color);\n",
              "    box-shadow: none;\n",
              "  }\n",
              "\n",
              "  .colab-df-spinner {\n",
              "    border: 2px solid var(--fill-color);\n",
              "    border-color: transparent;\n",
              "    border-bottom-color: var(--fill-color);\n",
              "    animation:\n",
              "      spin 1s steps(1) infinite;\n",
              "  }\n",
              "\n",
              "  @keyframes spin {\n",
              "    0% {\n",
              "      border-color: transparent;\n",
              "      border-bottom-color: var(--fill-color);\n",
              "      border-left-color: var(--fill-color);\n",
              "    }\n",
              "    20% {\n",
              "      border-color: transparent;\n",
              "      border-left-color: var(--fill-color);\n",
              "      border-top-color: var(--fill-color);\n",
              "    }\n",
              "    30% {\n",
              "      border-color: transparent;\n",
              "      border-left-color: var(--fill-color);\n",
              "      border-top-color: var(--fill-color);\n",
              "      border-right-color: var(--fill-color);\n",
              "    }\n",
              "    40% {\n",
              "      border-color: transparent;\n",
              "      border-right-color: var(--fill-color);\n",
              "      border-top-color: var(--fill-color);\n",
              "    }\n",
              "    60% {\n",
              "      border-color: transparent;\n",
              "      border-right-color: var(--fill-color);\n",
              "    }\n",
              "    80% {\n",
              "      border-color: transparent;\n",
              "      border-right-color: var(--fill-color);\n",
              "      border-bottom-color: var(--fill-color);\n",
              "    }\n",
              "    90% {\n",
              "      border-color: transparent;\n",
              "      border-bottom-color: var(--fill-color);\n",
              "    }\n",
              "  }\n",
              "</style>\n",
              "\n",
              "  <script>\n",
              "    async function quickchart(key) {\n",
              "      const quickchartButtonEl =\n",
              "        document.querySelector('#' + key + ' button');\n",
              "      quickchartButtonEl.disabled = true;  // To prevent multiple clicks.\n",
              "      quickchartButtonEl.classList.add('colab-df-spinner');\n",
              "      try {\n",
              "        const charts = await google.colab.kernel.invokeFunction(\n",
              "            'suggestCharts', [key], {});\n",
              "      } catch (error) {\n",
              "        console.error('Error during call to suggestCharts:', error);\n",
              "      }\n",
              "      quickchartButtonEl.classList.remove('colab-df-spinner');\n",
              "      quickchartButtonEl.classList.add('colab-df-quickchart-complete');\n",
              "    }\n",
              "    (() => {\n",
              "      let quickchartButtonEl =\n",
              "        document.querySelector('#df-ccdf939c-724d-4545-8cd8-0c1facd640d7 button');\n",
              "      quickchartButtonEl.style.display =\n",
              "        google.colab.kernel.accessAllowed ? 'block' : 'none';\n",
              "    })();\n",
              "  </script>\n",
              "</div>\n",
              "\n",
              "    </div>\n",
              "  </div>\n"
            ]
          },
          "metadata": {},
          "execution_count": 8
        }
      ]
    },
    {
      "cell_type": "code",
      "source": [
        "y.unique()"
      ],
      "metadata": {
        "colab": {
          "base_uri": "https://localhost:8080/"
        },
        "id": "TEi1gZ3o6J8e",
        "outputId": "df38fa83-4480-435c-da89-27d061559a71"
      },
      "execution_count": 9,
      "outputs": [
        {
          "output_type": "execute_result",
          "data": {
            "text/plain": [
              "array([5, 2, 1, 7, 3, 6, 4])"
            ]
          },
          "metadata": {},
          "execution_count": 9
        }
      ]
    },
    {
      "cell_type": "code",
      "source": [
        "# split the dataset\n",
        "X_train, X_test, y_train, y_test = train_test_split(X, y, test_size=0.2)"
      ],
      "metadata": {
        "id": "d5KDfHuyVqgx"
      },
      "execution_count": 10,
      "outputs": []
    },
    {
      "cell_type": "code",
      "source": [
        "# standardize the features\n",
        "scaler = StandardScaler()\n",
        "X_train = scaler.fit_transform(X_train)\n",
        "X_test = scaler.transform(X_test)"
      ],
      "metadata": {
        "id": "xpnBy07dUcpC"
      },
      "execution_count": 11,
      "outputs": []
    },
    {
      "cell_type": "code",
      "source": [
        "# Convert data to PyTorch tensors\n",
        "# X_train_cnn = X_train.reshape(-1, 1, 1, 51)\n",
        "X_train_tensor = torch.FloatTensor(X_train).to(device)\n",
        "y_train_tensor = torch.LongTensor(y_train.to_numpy() - 1).to(device)  # Subtract 1 to make classes 0-indexed\n",
        "X_test_tensor = torch.FloatTensor(X_test).to(device)\n",
        "y_test_tensor = torch.LongTensor(y_test.to_numpy() - 1).to(device)  # Subtract 1 to make classes 0-indexed"
      ],
      "metadata": {
        "id": "TtM9ZZaPUfng"
      },
      "execution_count": 12,
      "outputs": []
    },
    {
      "cell_type": "code",
      "source": [
        "# Define the CNN model\n",
        "class CNNModel(nn.Module):\n",
        "    def __init__(self):\n",
        "        super(CNNModel, self).__init__()\n",
        "        self.conv1 = nn.Conv1d(1, 32, kernel_size=5, stride=1, padding=1)\n",
        "        self.conv2 = nn.Conv1d(32, 64, kernel_size=5, stride=1, padding=1)\n",
        "        self.pool = nn.MaxPool1d(kernel_size=2, stride=2, padding=0)\n",
        "        self.fc1 = nn.Linear(64 * 11, 256)\n",
        "        self.fc2 = nn.Linear(256, 128)\n",
        "        self.fc3 = nn.Linear(128, 7)  # 7 classes for cover types\n",
        "\n",
        "        # Batch Normalization layers\n",
        "        self.bn1 = nn.BatchNorm1d(32)\n",
        "        self.bn2 = nn.BatchNorm1d(64)\n",
        "\n",
        "        # Dropout layer\n",
        "        self.dropout = nn.Dropout(0.5)\n",
        "\n",
        "    def forward(self, x):\n",
        "        x = self.pool(F.relu(self.conv1(x)))\n",
        "        x = self.pool(F.relu(self.conv2(x)))\n",
        "        x = x.view(-1, 64 * 11)\n",
        "        x = F.relu(self.fc1(x))\n",
        "        x = F.relu(self.fc2(x))\n",
        "        x = self.fc3(x)\n",
        "        return x"
      ],
      "metadata": {
        "id": "cRdSsJ1UUjzW"
      },
      "execution_count": 83,
      "outputs": []
    },
    {
      "cell_type": "code",
      "source": [
        "# Initialize the CNN model\n",
        "model = CNNModel()"
      ],
      "metadata": {
        "id": "QTpmwLQ7UpxJ"
      },
      "execution_count": 84,
      "outputs": []
    },
    {
      "cell_type": "code",
      "source": [
        "# Define the loss function and optimizer\n",
        "criterion = nn.CrossEntropyLoss()\n",
        "optimizer = optim.Adam(model.parameters(), lr=0.001)"
      ],
      "metadata": {
        "id": "yMlpVHAHUou-"
      },
      "execution_count": 85,
      "outputs": []
    },
    {
      "cell_type": "code",
      "source": [
        "# Convert data to DataLoader\n",
        "train_dataset = TensorDataset(X_train_tensor.unsqueeze(1), y_train_tensor)\n",
        "train_loader = DataLoader(train_dataset, batch_size=64, shuffle=True)\n",
        "test_dataset = TensorDataset(X_test_tensor.unsqueeze(1), y_test_tensor)\n",
        "test_loader = DataLoader(test_dataset, batch_size=64, shuffle=True)"
      ],
      "metadata": {
        "id": "vVuuWYd1Uv4C"
      },
      "execution_count": 86,
      "outputs": []
    },
    {
      "cell_type": "code",
      "source": [
        "# Move Model and Data to GPU\n",
        "model = model.to(device)"
      ],
      "metadata": {
        "id": "PJtrg8uWyv73"
      },
      "execution_count": 87,
      "outputs": []
    },
    {
      "cell_type": "code",
      "source": [
        "# get accuracy\n",
        "def get_accuracy(model, data_loader):\n",
        "    model.eval()\n",
        "    correct = 0\n",
        "    total = 0\n",
        "\n",
        "    with torch.no_grad():\n",
        "        for inputs, labels in data_loader:\n",
        "            inputs, labels = inputs.to(device), labels.to(device)\n",
        "\n",
        "            outputs = model(inputs)\n",
        "            _, predicted = torch.max(outputs.data, 1)\n",
        "            total += labels.size(0)\n",
        "            correct += (predicted == labels).sum().item()\n",
        "\n",
        "    accuracy = correct / total\n",
        "    return accuracy"
      ],
      "metadata": {
        "id": "RegXpVvtSntB"
      },
      "execution_count": 88,
      "outputs": []
    },
    {
      "cell_type": "code",
      "source": [
        "# Training the model\n",
        "num_epochs = 50\n",
        "train_loss_history = []\n",
        "train_acc = []\n",
        "test_acc = []\n",
        "\n",
        "for epoch in range(num_epochs):\n",
        "    model.train()\n",
        "    epoch_loss = 0.0\n",
        "\n",
        "    for inputs, labels in train_loader:\n",
        "        inputs, labels = inputs.to(device), labels.to(device)\n",
        "\n",
        "        optimizer.zero_grad()\n",
        "        outputs = model(inputs)\n",
        "        loss = criterion(outputs, labels)\n",
        "        loss.backward()\n",
        "        optimizer.step()\n",
        "\n",
        "        epoch_loss += loss.item()\n",
        "\n",
        "    avg_epoch_loss = epoch_loss / len(train_loader)\n",
        "    train_loss_history.append(avg_epoch_loss)\n",
        "    train_acc.append(get_accuracy(model, train_loader)) # compute training accuracy\n",
        "    test_acc.append(get_accuracy(model, test_loader))  # compute testing accuracy\n",
        "\n",
        "    print(f\"Epoch [{epoch + 1}/{num_epochs}] Loss: {loss.item():.4f}\")"
      ],
      "metadata": {
        "colab": {
          "base_uri": "https://localhost:8080/"
        },
        "id": "BC65vOQVr2Wm",
        "outputId": "5b94965f-3ffc-41b6-a544-d3db2f2afcd9"
      },
      "execution_count": 89,
      "outputs": [
        {
          "output_type": "stream",
          "name": "stdout",
          "text": [
            "Epoch [1/50] Loss: 0.4044\n",
            "Epoch [2/50] Loss: 0.3808\n",
            "Epoch [3/50] Loss: 0.3267\n",
            "Epoch [4/50] Loss: 0.2398\n",
            "Epoch [5/50] Loss: 0.1619\n",
            "Epoch [6/50] Loss: 0.2944\n",
            "Epoch [7/50] Loss: 0.2442\n",
            "Epoch [8/50] Loss: 0.2809\n",
            "Epoch [9/50] Loss: 0.2864\n",
            "Epoch [10/50] Loss: 0.3534\n",
            "Epoch [11/50] Loss: 0.3412\n",
            "Epoch [12/50] Loss: 0.3228\n",
            "Epoch [13/50] Loss: 0.2086\n",
            "Epoch [14/50] Loss: 0.1824\n",
            "Epoch [15/50] Loss: 0.2714\n",
            "Epoch [16/50] Loss: 0.4069\n",
            "Epoch [17/50] Loss: 0.1786\n",
            "Epoch [18/50] Loss: 0.2095\n",
            "Epoch [19/50] Loss: 0.4642\n",
            "Epoch [20/50] Loss: 0.2902\n",
            "Epoch [21/50] Loss: 0.2164\n",
            "Epoch [22/50] Loss: 0.2264\n",
            "Epoch [23/50] Loss: 0.1600\n",
            "Epoch [24/50] Loss: 0.2412\n",
            "Epoch [25/50] Loss: 0.2527\n",
            "Epoch [26/50] Loss: 0.1538\n",
            "Epoch [27/50] Loss: 0.2429\n",
            "Epoch [28/50] Loss: 0.3473\n",
            "Epoch [29/50] Loss: 0.2811\n",
            "Epoch [30/50] Loss: 0.1631\n",
            "Epoch [31/50] Loss: 0.1739\n",
            "Epoch [32/50] Loss: 0.2783\n",
            "Epoch [33/50] Loss: 0.1260\n",
            "Epoch [34/50] Loss: 0.2706\n",
            "Epoch [35/50] Loss: 0.1601\n",
            "Epoch [36/50] Loss: 0.1530\n",
            "Epoch [37/50] Loss: 0.2195\n",
            "Epoch [38/50] Loss: 0.2690\n",
            "Epoch [39/50] Loss: 0.2015\n",
            "Epoch [40/50] Loss: 0.1152\n",
            "Epoch [41/50] Loss: 0.4234\n",
            "Epoch [42/50] Loss: 0.0922\n",
            "Epoch [43/50] Loss: 0.3706\n",
            "Epoch [44/50] Loss: 0.1057\n",
            "Epoch [45/50] Loss: 0.1228\n",
            "Epoch [46/50] Loss: 0.1936\n",
            "Epoch [47/50] Loss: 0.1159\n",
            "Epoch [48/50] Loss: 0.2391\n",
            "Epoch [49/50] Loss: 0.0860\n",
            "Epoch [50/50] Loss: 0.1082\n"
          ]
        }
      ]
    },
    {
      "cell_type": "code",
      "source": [
        "# Plot the loss over epochs\n",
        "plt.plot(train_loss_history, label='Training Loss')\n",
        "plt.xlabel('Epoch')\n",
        "plt.ylabel('Loss')\n",
        "plt.title('Training Loss Over Epochs')\n",
        "plt.legend()\n",
        "plt.show()"
      ],
      "metadata": {
        "id": "Av_34bveVaWl",
        "colab": {
          "base_uri": "https://localhost:8080/",
          "height": 472
        },
        "outputId": "5f8bd122-b9d4-4cdb-a265-caa3ba9e14a2"
      },
      "execution_count": 90,
      "outputs": [
        {
          "output_type": "display_data",
          "data": {
            "text/plain": [
              "<Figure size 640x480 with 1 Axes>"
            ],
            "image/png": "[encoded data removed]"
          },
          "metadata": {}
        }
      ]
    },
    {
      "cell_type": "code",
      "source": [
        "# Evaluate the model on the test set\n",
        "with torch.no_grad():\n",
        "    model.eval()\n",
        "    test_outputs = model(X_test_tensor.unsqueeze(1))\n",
        "    _, test_predicted = torch.max(test_outputs, 1)\n",
        "    accuracy = (test_predicted == y_test_tensor).sum().item() / y_test_tensor.size(0)\n",
        "\n",
        "    print(f\"Test Accuracy: {accuracy * 100:.3f}%\")\n",
        "\n",
        "    train_outputs = model(X_train_tensor.unsqueeze(1))\n",
        "    _, train_predicted = torch.max(train_outputs, 1)\n",
        "    accuracy = (train_predicted == y_train_tensor).sum().item() / y_train_tensor.size(0)\n",
        "\n",
        "    print(f\"Train Accuracy: {accuracy * 100:.3f}%\")\n",
        "\n",
        "    # Convert tensor predictions and ground truth to numpy arrays\n",
        "    test_predicted_np = test_predicted.cpu().numpy()\n",
        "    y_test_np = y_test_tensor.cpu().numpy()\n",
        "\n",
        "    # Generate the confusion matrix\n",
        "    cm = confusion_matrix(y_test_np, test_predicted_np)\n",
        "    cm_percentage = cm.astype('float') / cm.sum(axis=1)[:, np.newaxis] * 100\n",
        "\n",
        "    # Visualize the confusion matrix\n",
        "    classes = ['Spruce/Fir', 'Lodgepole Pine', 'Ponderosa Pine', 'Cottonwood/Willow', 'Aspen', 'Douglas-fir',\n",
        "                   'Krummholz']\n",
        "\n",
        "    plt.figure(figsize=(8, 6))\n",
        "    sns.heatmap(cm_percentage, annot=True, fmt=\".3f\", cmap=\"Blues\", xticklabels=classes, yticklabels=classes)\n",
        "    plt.xlabel(\"Predicted\")\n",
        "    plt.ylabel(\"True\")\n",
        "    plt.title(\"Confusion Matrix\")\n",
        "    plt.show()\n",
        "\n",
        "    # Generate and print the classification report\n",
        "    print(\"Classification Report:\")\n",
        "    print(classification_report(y_test_np, test_predicted_np, target_names=classes))"
      ],
      "metadata": {
        "id": "HTAkuhL7U3RS",
        "colab": {
          "base_uri": "https://localhost:8080/",
          "height": 972
        },
        "outputId": "a8539c95-c845-483f-f0d2-0d0197381ff0"
      },
      "execution_count": 91,
      "outputs": [
        {
          "output_type": "stream",
          "name": "stdout",
          "text": [
            "Test Accuracy: 91.438%\n",
            "Train Accuracy: 93.723%\n"
          ]
        },
        {
          "output_type": "display_data",
          "data": {
            "text/plain": [
              "<Figure size 800x600 with 2 Axes>"
            ],
            "image/png": "[encoded data removed]"
          },
          "metadata": {}
        },
        {
          "output_type": "stream",
          "name": "stdout",
          "text": [
            "Classification Report:\n",
            "                   precision    recall  f1-score   support\n",
            "\n",
            "       Spruce/Fir       0.92      0.91      0.91     42228\n",
            "   Lodgepole Pine       0.92      0.93      0.93     56791\n",
            "   Ponderosa Pine       0.92      0.87      0.89      7060\n",
            "Cottonwood/Willow       0.80      0.81      0.80       572\n",
            "            Aspen       0.82      0.76      0.79      1921\n",
            "      Douglas-fir       0.79      0.86      0.82      3547\n",
            "        Krummholz       0.94      0.93      0.94      4084\n",
            "\n",
            "         accuracy                           0.91    116203\n",
            "        macro avg       0.87      0.87      0.87    116203\n",
            "     weighted avg       0.91      0.91      0.91    116203\n",
            "\n"
          ]
        }
      ]
    },
    {
      "cell_type": "code",
      "source": [
        "# Plot the accuracy for training and testing set over epochs\n",
        "plt.plot(train_acc, label='Training Accuracy', marker='o')\n",
        "plt.plot(test_acc, label='Testing Accuracy', marker='o')\n",
        "\n",
        "plt.title('Training and Testing Accuracy Over Epochs')\n",
        "plt.xlabel('Epochs')\n",
        "plt.ylabel('Accuracy')\n",
        "plt.legend()\n",
        "plt.grid(True)\n",
        "plt.show()"
      ],
      "metadata": {
        "id": "03MxyBxHLKiq",
        "colab": {
          "base_uri": "https://localhost:8080/",
          "height": 472
        },
        "outputId": "fc1d4134-3a24-4b73-9f36-586087c27d56"
      },
      "execution_count": 92,
      "outputs": [
        {
          "output_type": "display_data",
          "data": {
            "text/plain": [
              "<Figure size 640x480 with 1 Axes>"
            ],
            "image/png": "[encoded data removed]"
          },
          "metadata": {}
        }
      ]
    }
  ]
}